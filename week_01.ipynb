{
 "cells": [
  {
   "cell_type": "markdown",
   "id": "e81b5cf4-b8c4-4dd3-b20a-62f4ddefe963",
   "metadata": {},
   "source": [
    "#week 01"
   ]
  },
  {
   "cell_type": "code",
   "execution_count": 1,
   "id": "543d87a9-45e2-4fc0-a175-00793abc1217",
   "metadata": {},
   "outputs": [
    {
     "name": "stdout",
     "output_type": "stream",
     "text": [
      "hello, buddy!\n"
     ]
    }
   ],
   "source": [
    "#this is python\n",
    "print(\"hello, buddy!\")"
   ]
  },
  {
   "cell_type": "code",
   "execution_count": 2,
   "id": "684703f5-19c5-4e42-9a4b-9f4d14d6c836",
   "metadata": {},
   "outputs": [
    {
     "ename": "SyntaxError",
     "evalue": "expected ':' (758831555.py, line 19)",
     "output_type": "error",
     "traceback": [
      "\u001b[1;36m  Cell \u001b[1;32mIn[2], line 19\u001b[1;36m\u001b[0m\n\u001b[1;33m    else if int(ans) > number:\u001b[0m\n\u001b[1;37m         ^\u001b[0m\n\u001b[1;31mSyntaxError\u001b[0m\u001b[1;31m:\u001b[0m expected ':'\n"
     ]
    }
   ],
   "source": [
    "#guessing game\n",
    "!pip install IPython\n",
    "from random import randint\n",
    "from IPython.display import clear_output\n",
    "guessed= False\n",
    "number=randint(0, 100)\n",
    "guesses= 0\n",
    "while not guessed:\n",
    "    ans=input(\"try to guess the number I am thinking of!\")\n",
    "    #use tab to indent\n",
    "    guesses+= 1\n",
    "    clear_output()\n",
    "    if int(ans)==number:\n",
    "        print(\"Congrats!you guessed it correctly.\")\n",
    "    #use tab twice to indent twice\n",
    "        print(\"it took you {}guesses!\".format(guesses))\n",
    "    break \n",
    "    guessed=True\n",
    "else if int(ans) > number:\n",
    "   print(\"the number is lower than what you guessed\")\n",
    "elif int(ans) < number:\n",
    "  print(\"the number is greater than what you guessed.\")\n",
    "    "
   ]
  },
  {
   "cell_type": "code",
   "execution_count": null,
   "id": "2d88f88d-adaf-47fa-91d1-1e616e661de3",
   "metadata": {},
   "outputs": [],
   "source": []
  },
  {
   "cell_type": "code",
   "execution_count": null,
   "id": "f8233fb6-fdfd-43bb-abcf-77832ae49dd3",
   "metadata": {},
   "outputs": [],
   "source": []
  }
 ],
 "metadata": {
  "kernelspec": {
   "display_name": "Python 3 (ipykernel)",
   "language": "python",
   "name": "python3"
  },
  "language_info": {
   "codemirror_mode": {
    "name": "ipython",
    "version": 3
   },
   "file_extension": ".py",
   "mimetype": "text/x-python",
   "name": "python",
   "nbconvert_exporter": "python",
   "pygments_lexer": "ipython3",
   "version": "3.12.7"
  }
 },
 "nbformat": 4,
 "nbformat_minor": 5
}
