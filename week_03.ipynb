{
 "cells": [
  {
   "cell_type": "markdown",
   "id": "c2054a07-ad2d-40dd-b8ce-03e3f45307b0",
   "metadata": {},
   "source": [
    "#user input &type converting"
   ]
  },
  {
   "cell_type": "code",
   "execution_count": 2,
   "id": "d21e11cd-74d4-42f5-be09-fa4cc92b88b4",
   "metadata": {},
   "outputs": [
    {
     "name": "stdin",
     "output_type": "stream",
     "text": [
      "what is your name? \n"
     ]
    },
    {
     "name": "stdout",
     "output_type": "stream",
     "text": [
      "\n"
     ]
    }
   ],
   "source": [
    "#accepting and outputing user input\n",
    "print(input(\"what is your name?\"))"
   ]
  },
  {
   "cell_type": "code",
   "execution_count": 4,
   "id": "f2d2237e-7ea3-476f-9614-320ba6c3317f",
   "metadata": {},
   "outputs": [
    {
     "name": "stdin",
     "output_type": "stream",
     "text": [
      "what is your name? \n"
     ]
    },
    {
     "name": "stdout",
     "output_type": "stream",
     "text": [
      "hello!\n"
     ]
    }
   ],
   "source": [
    "#saving what the user inputs\n",
    "ans=input(\"what is your name?\")\n",
    "print(\"hello{}!\".format(ans))"
   ]
  },
  {
   "cell_type": "code",
   "execution_count": 5,
   "id": "1a33419a-9c16-4dcf-99ad-24f1e9f36146",
   "metadata": {},
   "outputs": [
    {
     "name": "stdout",
     "output_type": "stream",
     "text": [
      "<class 'int'>\n"
     ]
    }
   ],
   "source": [
    "#how to check the data type of a variable\n",
    "num=5\n",
    "print(type(num))"
   ]
  },
  {
   "cell_type": "code",
   "execution_count": 9,
   "id": "f4c20a82-2c69-47a4-959e-1f1c80e94b2b",
   "metadata": {},
   "outputs": [
    {
     "name": "stdout",
     "output_type": "stream",
     "text": [
      "<class 'int'>\n"
     ]
    }
   ],
   "source": [
    "#converting a variable from one data type to another\n",
    "num=\"9\"\n",
    "num= int(num) #re-declaring num to store an integer\n",
    "print(type(num)) #checking type to make sure conversion worked"
   ]
  },
  {
   "cell_type": "code",
   "execution_count": 17,
   "id": "eae17d27-d913-4390-b98a-b44d87c8891e",
   "metadata": {},
   "outputs": [
    {
     "name": "stdin",
     "output_type": "stream",
     "text": [
      "Type a number to add: \n"
     ]
    },
    {
     "name": "stdout",
     "output_type": "stream",
     "text": [
      "<class 'str'>\n",
      "ans\n"
     ]
    }
   ],
   "source": [
    "#working with user input to perform calculations\n",
    "ans= input(\"Type a number to add:\") #prompt hte user for input\n",
    "\n",
    "print(type(ans)) #default type is string, must convert\n",
    "print(\"ans{}\".format(ans)) #display the result"
   ]
  },
  {
   "cell_type": "code",
   "execution_count": 3,
   "id": "161d1afd-7b15-47fb-bdd7-5a295b485966",
   "metadata": {},
   "outputs": [
    {
     "name": "stdin",
     "output_type": "stream",
     "text": [
      "Type a number to add: \n"
     ]
    },
    {
     "name": "stdout",
     "output_type": "stream",
     "text": [
      "You did not put in a valid number!\n",
      "The program did not break!\n"
     ]
    }
   ],
   "source": [
    "#using the try and except block use tabto indent where necessary\n",
    "try:\n",
    "    ans=float(input(\"Type a number to add:\"))\n",
    "    print(\"100+{}\".format(ans,100+ans))\n",
    "except:\n",
    "      print(\"You did not put in a valid number!\")\n",
    "#without try/except print statement would not get hit if errors occurs\n",
    "print(\"The program did not break!\")"
   ]
  },
  {
   "cell_type": "code",
   "execution_count": 8,
   "id": "fc5a3870-3dc8-4901-928e-fb7e1dd4478d",
   "metadata": {},
   "outputs": [
    {
     "name": "stdout",
     "output_type": "stream",
     "text": [
      "<class 'bool'>\n"
     ]
    }
   ],
   "source": [
    "#monday's eercise\n",
    "#converting a string of 'True' to boolean and outputting its type\n",
    "string=\"True\"\n",
    "string=bool(string)\n",
    "print(type(string))"
   ]
  },
  {
   "cell_type": "code",
   "execution_count": 13,
   "id": "f1c48775-121e-49a2-840d-48f798809559",
   "metadata": {},
   "outputs": [
    {
     "name": "stdin",
     "output_type": "stream",
     "text": [
      "enter the first number: \n",
      "enter the second number \n"
     ]
    },
    {
     "name": "stdout",
     "output_type": "stream",
     "text": [
      "The sum of and \n"
     ]
    }
   ],
   "source": [
    "#create two input statements and ask the user to enter two numbers and print their su\n",
    "number1=input(\"enter the first number:\")\n",
    "number2=input(\"enter the second number\")\n",
    "sum=number1 +number2\n",
    "print(\"The sum of{} and {}\".format(number1,number2,sum))\n",
    "\n",
    "\n"
   ]
  },
  {
   "cell_type": "code",
   "execution_count": 24,
   "id": "09df9d52-24db-4cc5-b7ae-a40b75606d1e",
   "metadata": {},
   "outputs": [
    {
     "name": "stdin",
     "output_type": "stream",
     "text": [
      "enter the year of your car:2018 \n",
      "enter the make of tour car:Silverado \n",
      "enter the model of your car:Chevrolet \n",
      "enter the color of your car:Blue \n"
     ]
    },
    {
     "name": "stdout",
     "output_type": "stream",
     "text": [
      "   \n"
     ]
    }
   ],
   "source": [
    "#ask user to input the year,make ,model and color of their car and print a nicely formatted statement lie \"20188Blue Chevorlet Sillvradle\n",
    "year=input(\"enter the year of your car:2018\")\n",
    "make=input(\"enter the make of tour car:Silverado\")\n",
    "model=input(\"enter the model of your car:Chevrolet\")\n",
    "color=input(\"enter the color of your car:Blue\")\n",
    "print(\"{} {} {} {}\".format(year,color,make,model))"
   ]
  },
  {
   "cell_type": "markdown",
   "id": "053de3d7-dc54-4ee9-8a30-5c0ae0ce294e",
   "metadata": {},
   "source": [
    "#if statements"
   ]
  },
  {
   "cell_type": "code",
   "execution_count": 26,
   "id": "ba5618a8-a91a-4b3e-909b-28c35701ae84",
   "metadata": {},
   "outputs": [
    {
     "name": "stdout",
     "output_type": "stream",
     "text": [
      "x is less than y\n"
     ]
    }
   ],
   "source": [
    "#using an if statement to only run code if the condition is not et\n",
    "x,y,=5,10\n",
    "if x<y:\n",
    "    print(\"x is less than y\")"
   ]
  },
  {
   "cell_type": "code",
   "execution_count": 44,
   "id": "700a2e08-53dc-412c-b9e7-d3cd1f9be40c",
   "metadata": {},
   "outputs": [
    {
     "name": "stdin",
     "output_type": "stream",
     "text": [
      "what is 5+5? \n"
     ]
    },
    {
     "name": "stdout",
     "output_type": "stream",
     "text": [
      "please enter a valid number.\n"
     ]
    }
   ],
   "source": [
    "# checking user input\n",
    "try:\n",
    "   ans=int(input(\"what is 5+5?\"))\n",
    "   if ans==10:\n",
    "      print(\"You got it right!\")\n",
    "   else:\n",
    "      print (\"That's not correct. Try again!\")\n",
    "except:\n",
    "   print(\"please enter a valid number.\")"
   ]
  },
  {
   "cell_type": "markdown",
   "id": "3b5ba23c-add5-4ff4-9158-54943504dfca",
   "metadata": {},
   "source": [
    "\n",
    "#logic operators"
   ]
  },
  {
   "cell_type": "code",
   "execution_count": 46,
   "id": "00b08665-1410-4856-9e8c-6bd39025e8ce",
   "metadata": {},
   "outputs": [
    {
     "name": "stdout",
     "output_type": "stream",
     "text": [
      "Both statements were true\n"
     ]
    }
   ],
   "source": [
    "#logic operator\"and\"(used when you check multiple conditions both sides of the conditions are truw)\n",
    "x,y,z,=5,10,5\n",
    "if x<y and x==z:\n",
    "    print(\"Both statements were true\")"
   ]
  },
  {
   "cell_type": "code",
   "execution_count": 50,
   "id": "c5286370-f1b6-4486-ad38-9477fddc267a",
   "metadata": {},
   "outputs": [
    {
     "name": "stdout",
     "output_type": "stream",
     "text": [
      "one or both statements were true\n"
     ]
    }
   ],
   "source": [
    "#logic operator\"or\"(used to check for one or both conditions to be true)\n",
    "#using the keyword 'or' in an 'if statement'\n",
    "x,y,z=5,10,5\n",
    "if x<y or x!=z:\n",
    "    print(\"one or both statements were true\")"
   ]
  },
  {
   "cell_type": "code",
   "execution_count": 54,
   "id": "3b177546-2700-4874-9490-3fb9f70ecbe4",
   "metadata": {},
   "outputs": [
    {
     "name": "stdout",
     "output_type": "stream",
     "text": [
      "Flag is false\n"
     ]
    }
   ],
   "source": [
    "#logical operator \"not\"(used to check for the opposite of a value)\n",
    "#using the keyword 'not'within an 'if statement'\n",
    "flag= False\n",
    "if flag== False: # same as saying if not true or \"if not flag:\"\n",
    "      print(\"Flag is false\") #returns the opposite value of false which is True"
   ]
  },
  {
   "cell_type": "markdown",
   "id": "280f9328-8fad-41a7-9ec2-4d12e097ec04",
   "metadata": {},
   "source": [
    "#membership operators"
   ]
  },
  {
   "cell_type": "code",
   "execution_count": 55,
   "id": "af65af92-1e2d-4bfa-802b-a6ee1cecb9dd",
   "metadata": {},
   "outputs": [
    {
     "name": "stdout",
     "output_type": "stream",
     "text": [
      "Baseball contains the character b\n"
     ]
    }
   ],
   "source": [
    "#membership operator \"in\"(used to check if a given object has value appear in it)\n",
    "word=\"Baseball\"\n",
    "if \"b\" in word:\n",
    "     print(\"{} contains the character b\".format(word))"
   ]
  },
  {
   "cell_type": "code",
   "execution_count": 57,
   "id": "ba22500f-cb55-4a8f-8a6c-79d35be16d24",
   "metadata": {},
   "outputs": [
    {
     "name": "stdout",
     "output_type": "stream",
     "text": [
      "Baseball does not contain the character x\n"
     ]
    }
   ],
   "source": [
    "#menbership operator \"not in\"(used to check the opposite of 'in'operator)\n",
    "word= \"Baseball\"\n",
    "if \"x\" not in word:\n",
    "     print(\"{} does not contain the character x\".format(word))"
   ]
  },
  {
   "cell_type": "markdown",
   "id": "63be35c4-68fa-4070-b9ef-68b26a1f4005",
   "metadata": {},
   "source": [
    "#tuesday's exercise"
   ]
  },
  {
   "cell_type": "code",
   "execution_count": 59,
   "id": "c88ffe5c-9c60-45aa-8205-0c8b907ba407",
   "metadata": {},
   "outputs": [
    {
     "name": "stdin",
     "output_type": "stream",
     "text": [
      "please enter some text: \n"
     ]
    }
   ],
   "source": [
    "#checking inclusion for 'es'\n",
    "user_input=input(\"please enter some text:\")\n",
    "if \"es\" in user_input:\n",
    "    print(\"The text includes 'es'\")"
   ]
  },
  {
   "cell_type": "code",
   "execution_count": 60,
   "id": "24631043-b34a-4785-9f19-36b57edac0b0",
   "metadata": {},
   "outputs": [
    {
     "name": "stdin",
     "output_type": "stream",
     "text": [
      "please enter some text: \n"
     ]
    }
   ],
   "source": [
    "#checking if the text ends with \"ing\"\n",
    "user_input=input(\"please enter some text:\")\n",
    "if user_input.endswith(\"ing\"):\n",
    "      print(\"the text ends with 'ing'\")"
   ]
  },
  {
   "cell_type": "code",
   "execution_count": 61,
   "id": "a45d0818-876e-47bc-9817-7320f063967d",
   "metadata": {},
   "outputs": [
    {
     "name": "stdin",
     "output_type": "stream",
     "text": [
      "enter the first number: \n",
      "enter the second number: \n"
     ]
    },
    {
     "name": "stdout",
     "output_type": "stream",
     "text": [
      "both numbers are the same\n"
     ]
    }
   ],
   "source": [
    "#checking equality\n",
    "num1=input(\"enter the first number:\")\n",
    "num2=input(\"enter the second number:\")\n",
    "if num1==num2:\n",
    "     print(\"both numbers are the same\")"
   ]
  },
  {
   "cell_type": "code",
   "execution_count": 75,
   "id": "328d6577-aab9-4e37-b5f3-2320891df3f2",
   "metadata": {},
   "outputs": [
    {
     "name": "stdin",
     "output_type": "stream",
     "text": [
      "please enter a number:7 \n"
     ]
    },
    {
     "ename": "ValueError",
     "evalue": "could not convert string to float: ''",
     "output_type": "error",
     "traceback": [
      "\u001b[1;31m---------------------------------------------------------------------------\u001b[0m",
      "\u001b[1;31mValueError\u001b[0m                                Traceback (most recent call last)",
      "Cell \u001b[1;32mIn[75], line 2\u001b[0m\n\u001b[0;32m      1\u001b[0m \u001b[38;5;66;03m#returning eponents(HINT:investigate arithmetic expressions for exponents)\u001b[39;00m\n\u001b[1;32m----> 2\u001b[0m number \u001b[38;5;241m=\u001b[39m \u001b[38;5;28mfloat\u001b[39m(\u001b[38;5;28minput\u001b[39m(\u001b[38;5;124m\"\u001b[39m\u001b[38;5;124mplease enter a number:7\u001b[39m\u001b[38;5;124m\"\u001b[39m))\n\u001b[0;32m      3\u001b[0m \u001b[38;5;28;01mif\u001b[39;00m number\u001b[38;5;241m<\u001b[39m\u001b[38;5;241m10\u001b[39m: \u001b[38;5;66;03m#check if the number is lower than 10 and return the squared value\u001b[39;00m\n\u001b[0;32m      4\u001b[0m    result \u001b[38;5;241m=\u001b[39m number\u001b[38;5;241m*\u001b[39m\u001b[38;5;241m*\u001b[39m\u001b[38;5;241m2\u001b[39m \u001b[38;5;66;03m#using the exponentition operator\u001b[39;00m\n",
      "\u001b[1;31mValueError\u001b[0m: could not convert string to float: ''"
     ]
    }
   ],
   "source": [
    "#returning eponents(HINT:investigate arithmetic expressions for exponents)\n",
    "number = float(input(\"please enter a number:7\"))\n",
    "if number<10: #check if the number is lower than 10 and return the squared value\n",
    "   result = number**2 #using the exponentition operator\n",
    "   print(\"The square of {} is {}\".format(number,result))\n"
   ]
  },
  {
   "cell_type": "markdown",
   "id": "10be4a27-8bd0-4143-9bf1-9567cb59bbcb",
   "metadata": {},
   "source": [
    "#Elif statements (give us ability to run separate blocks of code depending on condition)"
   ]
  },
  {
   "cell_type": "code",
   "execution_count": 1,
   "id": "a98fd5b0-c7eb-43ab-8cb0-2fdacfca57fb",
   "metadata": {},
   "outputs": [
    {
     "name": "stdout",
     "output_type": "stream",
     "text": [
      "x is less\n"
     ]
    }
   ],
   "source": [
    "# using the elif conditional statement\n",
    "x,y=5,10\n",
    "if x>y:\n",
    "    print(\"x is greater \")\n",
    "elif x<y:\n",
    "    print(\"x is less\")"
   ]
  },
  {
   "cell_type": "code",
   "execution_count": 3,
   "id": "9472ceb4-48a2-45c5-9abc-c70ed199dbea",
   "metadata": {},
   "outputs": [
    {
     "name": "stdout",
     "output_type": "stream",
     "text": [
      "equal\n"
     ]
    }
   ],
   "source": [
    "#checking more than one elif conditional statement\n",
    "x,y=5,10\n",
    "if x>y:\n",
    "    print(\"x is greater\")\n",
    "elif(x+10)<y:\n",
    "    print(\"x is less\")\n",
    "elif(x+5)==y:\n",
    "    print(\"equal\")\n",
    "    "
   ]
  },
  {
   "cell_type": "markdown",
   "id": "1d60a000-1156-4e93-b94e-996f0de4ed4c",
   "metadata": {},
   "source": [
    "#conditionals within conditionals"
   ]
  },
  {
   "cell_type": "code",
   "execution_count": 4,
   "id": "26c8f56a-cb50-408a-aa49-31ee27512ac8",
   "metadata": {},
   "outputs": [
    {
     "name": "stdout",
     "output_type": "stream",
     "text": [
      "x is equal to z\n"
     ]
    }
   ],
   "source": [
    "#writing multiple conditionals within each othe-multiple block levels\n",
    "x,y,z=5,10,5\n",
    "if x>y:\n",
    "    print(\"greater\")\n",
    "elif x<=y:\n",
    "    if x==z:\n",
    "        print(\"x is equal to z\")  #resulting output\n",
    "    elif x!=z:\n",
    "        print(\"x is not equal to z\")  #wont get hit"
   ]
  },
  {
   "cell_type": "markdown",
   "id": "6a1c0894-5f03-45b5-8da5-f8f334fbb909",
   "metadata": {},
   "source": [
    "#if statements vs elif statements"
   ]
  },
  {
   "cell_type": "code",
   "execution_count": 5,
   "id": "57f775ed-c8e2-40f2-a4d1-aac857d38985",
   "metadata": {},
   "outputs": [
    {
     "name": "stdout",
     "output_type": "stream",
     "text": [
      "x is less\n",
      "x is equal\n"
     ]
    }
   ],
   "source": [
    "#testing output of two if statements in a row that are both truee\n",
    "x,y,z=5,10,5\n",
    "if x<y:\n",
    "    print(\"x is less\")\n",
    "if x==z:\n",
    "    print(\"x is equal\")"
   ]
  },
  {
   "cell_type": "code",
   "execution_count": 6,
   "id": "1389c07f-b323-401b-a991-edd568d8c00a",
   "metadata": {},
   "outputs": [
    {
     "name": "stdout",
     "output_type": "stream",
     "text": [
      "x is less\n"
     ]
    }
   ],
   "source": [
    "#testing output of an if and elif statement that are both true\n",
    "x,y,z=5,10,5\n",
    "if x<y:\n",
    "    print(\"x is less\")\n",
    "elif x==z:\n",
    "    print(\"x is equal to z\")"
   ]
  },
  {
   "cell_type": "code",
   "execution_count": 11,
   "id": "548b33c9-2880-4d5a-9d9f-33cd4fb1195d",
   "metadata": {},
   "outputs": [
    {
     "name": "stdout",
     "output_type": "stream",
     "text": [
      "number is lower than 100\n"
     ]
    }
   ],
   "source": [
    "number=70\n",
    "if number>100:\n",
    "    print(\"number is higher than 100\")\n",
    "elif number<100:\n",
    "     print(\"number is lower than 100\")"
   ]
  },
  {
   "cell_type": "markdown",
   "id": "4f872db8-e3fe-45a6-beb0-bf07d4a55408",
   "metadata": {},
   "source": [
    "#else statement"
   ]
  },
  {
   "cell_type": "code",
   "execution_count": 4,
   "id": "4208364e-f3a0-401c-aabc-13bd4c0be476",
   "metadata": {},
   "outputs": [
    {
     "name": "stdout",
     "output_type": "stream",
     "text": [
      "hello John!\n"
     ]
    }
   ],
   "source": [
    "#using an else statement\n",
    "name=\"John\"\n",
    "if name==\"Jacob\":\n",
    "    print(\"Hello Jacob!\")\n",
    "else:\n",
    "    print(\"hello {}!\".format(name))\n"
   ]
  },
  {
   "cell_type": "code",
   "execution_count": 5,
   "id": "fb607484-a90a-426e-a3fc-0dae56379396",
   "metadata": {},
   "outputs": [
    {
     "name": "stdout",
     "output_type": "stream",
     "text": [
      "name starts with J\n"
     ]
    }
   ],
   "source": [
    "#complete conditional statements\n",
    "name=\"John\"\n",
    "if name[0]==\"A\":\n",
    "    print(\"name starts with A\")\n",
    "elif name[0]==\"B\":\n",
    "    print(\"name starts with B\")\n",
    "elif name[0]==\"J\":\n",
    "    print(\"name starts with J\")\n",
    "else:\n",
    "    print(\"name starts with a {}\".format(name[0]))\n",
    "\n"
   ]
  },
  {
   "cell_type": "code",
   "execution_count": null,
   "id": "4a6f734e-a9a7-4faf-8ca4-0234064d425a",
   "metadata": {},
   "outputs": [],
   "source": [
    "\n",
    "\n"
   ]
  },
  {
   "cell_type": "markdown",
   "id": "ea3d3e25-8b1e-4026-8d01-adce02f62838",
   "metadata": {},
   "source": [
    "#friday project:creating a calculator\n"
   ]
  },
  {
   "cell_type": "code",
   "execution_count": 35,
   "id": "01e140a0-eb71-4f26-a6f3-6bb283276914",
   "metadata": {},
   "outputs": [
    {
     "name": "stdin",
     "output_type": "stream",
     "text": [
      "would you like to add/subtract/multiply/divide? \n"
     ]
    },
    {
     "name": "stdout",
     "output_type": "stream",
     "text": [
      "You chose.\n"
     ]
    },
    {
     "name": "stdin",
     "output_type": "stream",
     "text": [
      "What is the first number? \n",
      "What is the second number? \n"
     ]
    },
    {
     "name": "stdout",
     "output_type": "stream",
     "text": [
      "First number:\n",
      "Second number:\n",
      "Error: improper numbers used. please try again\n"
     ]
    }
   ],
   "source": [
    "# step1: Ask user for calculation to be performed\n",
    "operation= input(\"would you like to add/subtract/multiply/divide?\").lower()\n",
    "print(\"You chose{}.\".format(operation)) # for testing purposes\n",
    "#step2: Ask for numbers, alert order matters for subtracting and dividing\n",
    "if operation == \"subtract\" or operation==\"divide\":\n",
    "    print(\"You chose{}.\".format(operation))\n",
    "    print(\"Plese keep in mind that the order of your numbers matter.\")\n",
    "\n",
    "num1 = input(\"What is the first number?\")\n",
    "num2 = input(\"What is the second number?\")\n",
    "print(\"First number:{}\".format(num1)) # for testing purposes\n",
    "print(\"Second number:{}\".format(num2)) # for testing purposes\n",
    "\n",
    "#step3: setup try/except for mathematical operation\n",
    "try:\n",
    "    #step 3a: immediately try to convert numbers input to floats\n",
    "   num1,num2= float(num1), float(num2)\n",
    "   #step3b: perform operation and print result\n",
    "   if operation == \"add\":\n",
    "        result= num1+num2\n",
    "        print(\"{} + {}={}\".format(num1,num2,result))\n",
    "   elif operation==\"subtract\":\n",
    "        result=num1-num2\n",
    "        print(\"{}-{}={}\".format(num1,num2,result))\n",
    "   elif operation==\"multiply\":\n",
    "         result=num1*num2\n",
    "         print(\"{}*{}={}\".format(num1,num2,result))\n",
    "   elif operation==\"divide\":\n",
    "      if num2!=0:\n",
    "           result=num1/num2\n",
    "           print(\"{}/{}={}\".format(num1,num2,result))\n",
    "      else:\n",
    "        #else will be hit if they didn't chose an operation correctly\n",
    "        print(\"Sorry,but'{}'is not an option.\".format(operation))\n",
    "except:\n",
    "     #step 3c:print error\n",
    "    print(\"Error: improper numbers used. please try again\")"
   ]
  },
  {
   "cell_type": "code",
   "execution_count": 31,
   "id": "9efbd7bf-b17d-47e2-a820-f6ef6413eebb",
   "metadata": {},
   "outputs": [
    {
     "name": "stdin",
     "output_type": "stream",
     "text": [
      "Would you like to add/subtract/multiply/divide?  \n"
     ]
    },
    {
     "name": "stdout",
     "output_type": "stream",
     "text": [
      "You chose .\n"
     ]
    },
    {
     "name": "stdin",
     "output_type": "stream",
     "text": [
      "What is the first number?  \n",
      "What is the second number?  \n"
     ]
    },
    {
     "name": "stdout",
     "output_type": "stream",
     "text": [
      "First number: \n",
      "Second number: \n",
      "Error: Improper numbers used. Please try again.\n"
     ]
    }
   ],
   "source": [
    "# Step 1: Ask user for calculation to be performed\n",
    "operation = input(\"Would you like to add/subtract/multiply/divide? \").lower()\n",
    "print(\"You chose {}.\".format(operation)) # for testing purposes\n",
    "\n",
    "# Step 2: Ask for numbers, alert order matters for subtracting and dividing\n",
    "if operation == \"subtract\" or operation == \"divide\":\n",
    "    print(\"You chose {}.\".format(operation))\n",
    "    print(\"Please keep in mind that the order of your numbers matters.\")\n",
    "\n",
    "num1 = input(\"What is the first number? \")\n",
    "num2 = input(\"What is the second number? \")\n",
    "print(\"First number: {}\".format(num1)) # for testing purposes\n",
    "print(\"Second number: {}\".format(num2)) # for testing purposes\n",
    "\n",
    "# Step 3: Setup try/except for mathematical operation\n",
    "try:\n",
    "    # Step 3a: Immediately try to convert numbers input to floats\n",
    "    num1, num2 = float(num1), float(num2)\n",
    "\n",
    "    # Step 3b: Perform operation and print result\n",
    "    if operation == \"add\":\n",
    "        result = num1 + num2\n",
    "        print(\"{} + {} = {}\".format(num1, num2, result))\n",
    "    elif operation == \"subtract\":\n",
    "        result = num1 - num2\n",
    "        print(\"{} - {} = {}\".format(num1, num2, result))\n",
    "    elif operation == \"multiply\":\n",
    "        result = num1 * num2\n",
    "        print(\"{} * {} = {}\".format(num1, num2, result))\n",
    "    elif operation == \"divide\":\n",
    "        if num2 != 0:  # Check to avoid division by zero\n",
    "            result = num1 / num2\n",
    "            print(\"{} / {} = {}\".format(num1, num2, result))\n",
    "        else:\n",
    "            print(\"Error: Cannot divide by zero.\")\n",
    "    else:\n",
    "        # Else will be hit if the operation is not valid\n",
    "        print(\"Sorry, but '{}' is not an option.\".format(operation))\n",
    "except ValueError:\n",
    "    # Step 3c: Print error if input cannot be converted to float\n",
    "    print(\"Error: Improper numbers used. Please try again.\")\n"
   ]
  },
  {
   "cell_type": "code",
   "execution_count": null,
   "id": "1bc3738b-8d85-4e10-bcf2-95de191388f3",
   "metadata": {},
   "outputs": [],
   "source": []
  }
 ],
 "metadata": {
  "kernelspec": {
   "display_name": "Python 3 (ipykernel)",
   "language": "python",
   "name": "python3"
  },
  "language_info": {
   "codemirror_mode": {
    "name": "ipython",
    "version": 3
   },
   "file_extension": ".py",
   "mimetype": "text/x-python",
   "name": "python",
   "nbconvert_exporter": "python",
   "pygments_lexer": "ipython3",
   "version": "3.12.7"
  }
 },
 "nbformat": 4,
 "nbformat_minor": 5
}
