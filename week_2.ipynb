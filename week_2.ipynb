{
 "cells": [
  {
   "cell_type": "markdown",
   "id": "7f3af4a1-2e87-4c77-af95-6e6ba9b3bd9e",
   "metadata": {},
   "source": [
    "#comments & basic data types"
   ]
  },
  {
   "cell_type": "code",
   "execution_count": 1,
   "id": "7da38704-e17a-4a85-aad9-35def46cef3d",
   "metadata": {},
   "outputs": [],
   "source": [
    "#this is a comment"
   ]
  },
  {
   "cell_type": "code",
   "execution_count": 2,
   "id": "fd39a7f0-4967-414c-bf15-8a9bf665b57d",
   "metadata": {},
   "outputs": [
    {
     "name": "stdout",
     "output_type": "stream",
     "text": [
      "hello\n"
     ]
    }
   ],
   "source": [
    "print(\"hello\") #this is a comment"
   ]
  },
  {
   "cell_type": "code",
   "execution_count": 3,
   "id": "70ff9faf-a396-4f25-ba70-eb7075145498",
   "metadata": {},
   "outputs": [
    {
     "name": "stdout",
     "output_type": "stream",
     "text": [
      "hello\n"
     ]
    }
   ],
   "source": [
    "\"\"\" this is a multi-line comment\n",
    "\"\"\"\n",
    "print(\"hello\") # this is a comment"
   ]
  },
  {
   "cell_type": "code",
   "execution_count": 4,
   "id": "a55e0d3b-bbfc-4511-8792-d379d2fc7754",
   "metadata": {},
   "outputs": [
    {
     "name": "stdout",
     "output_type": "stream",
     "text": [
      "2\n",
      "10\n"
     ]
    }
   ],
   "source": [
    "#the following are all integers\n",
    "print(2)\n",
    "print(10)"
   ]
  },
  {
   "cell_type": "code",
   "execution_count": 5,
   "id": "ada9201f-d7b0-43fe-a269-3462390bd4eb",
   "metadata": {},
   "outputs": [
    {
     "name": "stdout",
     "output_type": "stream",
     "text": [
      "10.953\n",
      "8.0\n"
     ]
    }
   ],
   "source": [
    "#the following are all floats\n",
    "print(10.953)\n",
    "print(8.0)# even this number is a float"
   ]
  },
  {
   "cell_type": "code",
   "execution_count": 7,
   "id": "bae0043a-34fa-48ab-864d-747bd6002cec",
   "metadata": {},
   "outputs": [
    {
     "name": "stdout",
     "output_type": "stream",
     "text": [
      "True\n",
      "False\n"
     ]
    }
   ],
   "source": [
    "#the following are booleans\n",
    "print(True)\n",
    "print(False)"
   ]
  },
  {
   "cell_type": "code",
   "execution_count": 8,
   "id": "df8a3e35-8e2f-47e5-adf0-9b6378fc276b",
   "metadata": {},
   "outputs": [
    {
     "name": "stdout",
     "output_type": "stream",
     "text": [
      "\n",
      "there's a snake in my boot!\n",
      "True\n"
     ]
    }
   ],
   "source": [
    "#the following are strings\n",
    "print(\"\")\n",
    "print(\"there's a snake in my boot!\")\n",
    "print('True')"
   ]
  },
  {
   "cell_type": "code",
   "execution_count": 11,
   "id": "c401de81-4fcd-4698-8ba5-8415320e6871",
   "metadata": {},
   "outputs": [
    {
     "name": "stdout",
     "output_type": "stream",
     "text": [
      "Brenda Sharon Adongo\n"
     ]
    }
   ],
   "source": [
    "print(\"Brenda Sharon Adongo\")"
   ]
  },
  {
   "cell_type": "markdown",
   "id": "0c34e24e-ad7f-4151-a264-3d37e374bdfe",
   "metadata": {},
   "source": [
    "#variables"
   ]
  },
  {
   "cell_type": "code",
   "execution_count": 12,
   "id": "89197825-e0d0-43ad-93f6-8cee2c627657",
   "metadata": {},
   "outputs": [
    {
     "name": "stdout",
     "output_type": "stream",
     "text": [
      "5 8.4\n"
     ]
    }
   ],
   "source": [
    "num1=5 # storing an integer into a variable\n",
    "num2=8.4 #stpring a float into a variable\n",
    "print(num1,num2)"
   ]
  },
  {
   "cell_type": "code",
   "execution_count": 13,
   "id": "7dd8e14e-c0a2-41e5-b725-94d6dd6a8ba9",
   "metadata": {},
   "outputs": [
    {
     "name": "stdout",
     "output_type": "stream",
     "text": [
      "True\n"
     ]
    }
   ],
   "source": [
    "#storing a boolean into variable\n",
    "switch=True\n",
    "print(switch)"
   ]
  },
  {
   "cell_type": "code",
   "execution_count": 14,
   "id": "d4d70407-1ebb-44fb-b18a-0e017172ef09",
   "metadata": {},
   "outputs": [
    {
     "name": "stdout",
     "output_type": "stream",
     "text": [
      "John Smith 9\n"
     ]
    }
   ],
   "source": [
    "#storing strings into a variable\n",
    "name='John Smith'\n",
    "fav_number='9'\n",
    "print(name, fav_number)"
   ]
  },
  {
   "cell_type": "code",
   "execution_count": 15,
   "id": "53731330-4eb9-4e18-8739-63b132daa04f",
   "metadata": {},
   "outputs": [
    {
     "name": "stdout",
     "output_type": "stream",
     "text": [
      "13.4\n"
     ]
    }
   ],
   "source": [
    "# using two variables to create another variable\n",
    "result=num1+num2\n",
    "print(result)"
   ]
  },
  {
   "cell_type": "code",
   "execution_count": 16,
   "id": "737667d6-cdb1-4fb7-bd98-d26907a4a4a7",
   "metadata": {},
   "outputs": [
    {
     "name": "stdout",
     "output_type": "stream",
     "text": [
      "14.4\n",
      "72.0\n"
     ]
    }
   ],
   "source": [
    "#adding,deleting,multiplying,dividing from a variable\n",
    "result+=1 #same as saying =result+1\n",
    "print(result)\n",
    "result*=num1\n",
    "print(result)"
   ]
  },
  {
   "cell_type": "code",
   "execution_count": 17,
   "id": "ecb97df9-379c-4810-817c-aad4cd504dc1",
   "metadata": {},
   "outputs": [
    {
     "name": "stdout",
     "output_type": "stream",
     "text": [
      "John\n",
      "Sam\n"
     ]
    }
   ],
   "source": [
    "#defining a variable and overwriting its value\n",
    "name='John'\n",
    "print(name)\n",
    "name='Sam'\n",
    "print(name)"
   ]
  },
  {
   "cell_type": "code",
   "execution_count": 18,
   "id": "3291498c-0078-423b-bc9d-788936db86a8",
   "metadata": {},
   "outputs": [
    {
     "name": "stdout",
     "output_type": "stream",
     "text": [
      "13\n"
     ]
    }
   ],
   "source": [
    "# tuesday's exercise\n",
    "x=3\n",
    "y=10\n",
    "result=x*y\n",
    "print(x+y)"
   ]
  },
  {
   "cell_type": "code",
   "execution_count": 19,
   "id": "114a1e59-c435-4234-8acd-4da8b142a386",
   "metadata": {},
   "outputs": [
    {
     "name": "stdout",
     "output_type": "stream",
     "text": [
      "3354.0764\n"
     ]
    }
   ],
   "source": [
    "width=245.54\n",
    "height=13.66\n",
    "area=width*height\n",
    "print(area)"
   ]
  },
  {
   "cell_type": "markdown",
   "id": "b3f3f2f4-ec45-4b61-9344-8877bd389726",
   "metadata": {},
   "source": [
    "#working with strings"
   ]
  },
  {
   "cell_type": "code",
   "execution_count": 20,
   "id": "b3d3f4a9-b6a8-4a73-b73d-acb8b6de7789",
   "metadata": {},
   "outputs": [
    {
     "name": "stdout",
     "output_type": "stream",
     "text": [
      "JohnSmith\n"
     ]
    }
   ],
   "source": [
    "#using the addition operator without variables\n",
    "name=\"John\"+\"\"+\"Smith\"\n",
    "print(name)"
   ]
  },
  {
   "cell_type": "code",
   "execution_count": 21,
   "id": "3396bb07-95b8-4d2e-86b8-cae96e7b9771",
   "metadata": {},
   "outputs": [
    {
     "name": "stdout",
     "output_type": "stream",
     "text": [
      "JohnSmith\n"
     ]
    }
   ],
   "source": [
    "#using addition operator with variables\n",
    "first_name=\"John\"\n",
    "last_name=\"Smith\"\n",
    "full_name=first_name+\"\"+last_name\n",
    "print(full_name)\n"
   ]
  },
  {
   "cell_type": "code",
   "execution_count": 26,
   "id": "ae098588-fc79-4bd2-8b41-237f25f51020",
   "metadata": {},
   "outputs": [
    {
     "name": "stdout",
     "output_type": "stream",
     "text": [
      "HelloJohn\n",
      "HelloJohn, you are28years old!\n"
     ]
    }
   ],
   "source": [
    "#injecting variables using the format method\n",
    "name=\"John\"\n",
    "print(\"Hello{}\".format(name))\n",
    "print(\"Hello{}, you are{}years old!\".format(name,28))"
   ]
  },
  {
   "cell_type": "code",
   "execution_count": 27,
   "id": "32b17c45-b4b3-44bc-9682-0752d6132ff4",
   "metadata": {},
   "outputs": [
    {
     "name": "stdout",
     "output_type": "stream",
     "text": [
      "HelloJohn\n"
     ]
    }
   ],
   "source": [
    "#using the new f strings\n",
    "name=\"John\"\n",
    "print(f\"Hello{name}\")"
   ]
  },
  {
   "cell_type": "code",
   "execution_count": 29,
   "id": "54401d1a-24e5-4950-a849-d8433b5a1f7e",
   "metadata": {},
   "outputs": [
    {
     "name": "stdout",
     "output_type": "stream",
     "text": [
      "Hello,John\n"
     ]
    }
   ],
   "source": [
    "#one major difference between versions 2&3\n",
    "name='John'\n",
    "print('Hello,%s'%name)"
   ]
  },
  {
   "cell_type": "code",
   "execution_count": 30,
   "id": "c0d5d092-1cfe-4e80-9919-68895de9c602",
   "metadata": {},
   "outputs": [
    {
     "name": "stdout",
     "output_type": "stream",
     "text": [
      "Hello,JohnSmith\n"
     ]
    }
   ],
   "source": [
    "#python2 multiple  variable formatting\n",
    "first_name=\"John\"\n",
    "last_name=\"Smith\"\n",
    "print(\"Hello,%s%s\"%(first_name,last_name)) #surround the variable in parenthesis"
   ]
  },
  {
   "cell_type": "code",
   "execution_count": 32,
   "id": "b37ecbc4-591d-4f7a-a511-94a9b511356f",
   "metadata": {},
   "outputs": [
    {
     "name": "stdout",
     "output_type": "stream",
     "text": [
      "H\n",
      "e\n",
      "o\n"
     ]
    }
   ],
   "source": [
    "#using indexes to print each element\n",
    "word=\"Hello\"\n",
    "print(word[0]) #will output 'H'\n",
    "print(word[1]) # will output 'e'\n",
    "print(word[-1]) #will output'o'"
   ]
  },
  {
   "cell_type": "code",
   "execution_count": 35,
   "id": "bdb0e6e3-deb1-45dc-a798-2f216194b0e6",
   "metadata": {},
   "outputs": [
    {
     "name": "stdout",
     "output_type": "stream",
     "text": [
      "23 4.5 FalseJohn\n"
     ]
    }
   ],
   "source": [
    "#wednesday's exercise\n",
    "name=\"John\"\n",
    "print(\"23 4.5 False{}\".format(name))"
   ]
  },
  {
   "cell_type": "markdown",
   "id": "d7b0cfe3-e673-4b7f-8769-0e3333aba7fb",
   "metadata": {},
   "source": [
    "#Manipulating strings"
   ]
  },
  {
   "cell_type": "code",
   "execution_count": 36,
   "id": "9396d309-b629-408d-9f25-9ea90693af9d",
   "metadata": {},
   "outputs": [
    {
     "name": "stdout",
     "output_type": "stream",
     "text": [
      "John Smith\n"
     ]
    }
   ],
   "source": [
    "#using the title metod to capitalize a string\n",
    "name=\"john smith\"\n",
    "print(name.title())"
   ]
  },
  {
   "cell_type": "code",
   "execution_count": 38,
   "id": "26685b6b-88d8-4389-8a2e-2be1abc96187",
   "metadata": {},
   "outputs": [
    {
     "name": "stdout",
     "output_type": "stream",
     "text": [
      "Hello there.\n"
     ]
    }
   ],
   "source": [
    "#replacing an exclamation point with a period\n",
    "words=\"Hello there!\"\n",
    "words=words.replace(\"!\",\".\")\n",
    "print(words.replace(\"!\",\".\"))"
   ]
  },
  {
   "cell_type": "code",
   "execution_count": 40,
   "id": "0b4ffc44-66ed-41e5-a205-35e18adea81a",
   "metadata": {},
   "outputs": [
    {
     "name": "stdout",
     "output_type": "stream",
     "text": [
      "5\n"
     ]
    }
   ],
   "source": [
    "# finding the starting index of our searched term\n",
    "s=\"look over that way\"\n",
    "print(s.find(\"over\")) #not understood properly"
   ]
  },
  {
   "cell_type": "code",
   "execution_count": 44,
   "id": "572c5249-0a0a-4cd5-b135-2615c5bf16a9",
   "metadata": {},
   "outputs": [
    {
     "name": "stdout",
     "output_type": "stream",
     "text": [
      "John\n"
     ]
    }
   ],
   "source": [
    "# removing white space with strip\n",
    "name=\"  John  \"\n",
    "print(name.strip())"
   ]
  },
  {
   "cell_type": "code",
   "execution_count": 48,
   "id": "b1d316c1-c635-4e0c-9b80-255a357ba508",
   "metadata": {},
   "outputs": [
    {
     "ename": "ValueError",
     "evalue": "empty separator",
     "output_type": "error",
     "traceback": [
      "\u001b[1;31m---------------------------------------------------------------------------\u001b[0m",
      "\u001b[1;31mValueError\u001b[0m                                Traceback (most recent call last)",
      "Cell \u001b[1;32mIn[48], line 3\u001b[0m\n\u001b[0;32m      1\u001b[0m \u001b[38;5;66;03m#converting a string into a list of words\u001b[39;00m\n\u001b[0;32m      2\u001b[0m s\u001b[38;5;241m=\u001b[39m\u001b[38;5;124m\"\u001b[39m\u001b[38;5;124mThese words are separated by spaces\u001b[39m\u001b[38;5;124m\"\u001b[39m\n\u001b[1;32m----> 3\u001b[0m \u001b[38;5;28mprint\u001b[39m(s\u001b[38;5;241m.\u001b[39msplit(\u001b[38;5;124m\"\u001b[39m\u001b[38;5;124m\"\u001b[39m))\n",
      "\u001b[1;31mValueError\u001b[0m: empty separator"
     ]
    }
   ],
   "source": [
    "#converting a string into a list of words\n",
    "s=\"These words are separated by spaces\"\n",
    "print(s.split(\"\"))  #we'll come back to this method and why it is important"
   ]
  },
  {
   "cell_type": "code",
   "execution_count": 49,
   "id": "84619309-bce3-44b0-a0ec-bd114a73b2b2",
   "metadata": {},
   "outputs": [
    {
     "name": "stdout",
     "output_type": "stream",
     "text": [
      "Brenda Sharon Adongo\n"
     ]
    }
   ],
   "source": [
    "#thursday's exercise\n",
    "name=\"brenda sharon adongo\"\n",
    "print(name.title())"
   ]
  },
  {
   "cell_type": "code",
   "execution_count": 63,
   "id": "9aa3f4b8-5224-46aa-bb08-f5253b778cd7",
   "metadata": {},
   "outputs": [
    {
     "name": "stdout",
     "output_type": "stream",
     "text": [
      "$$John Smith\n",
      "Help on built-in function strip:\n",
      "\n",
      "strip(chars=None, /) method of builtins.str instance\n",
      "    Return a copy of the string with leading and trailing whitespace removed.\n",
      "\n",
      "    If chars is given and not None, remove characters in chars instead.\n",
      "\n"
     ]
    }
   ],
   "source": [
    "name=\"$$John Smith\"\n",
    "print(name.rstrip(None))\n",
    "help(\"\".strip)"
   ]
  },
  {
   "cell_type": "markdown",
   "id": "161a5f71-b6ab-4887-8fe2-202360815282",
   "metadata": {},
   "source": [
    "#Friday project: printing Receipts"
   ]
  },
  {
   "cell_type": "code",
   "execution_count": 82,
   "id": "0b2a453c-109e-45a1-bd4a-d8992d119f3c",
   "metadata": {},
   "outputs": [
    {
     "name": "stdout",
     "output_type": "stream",
     "text": [
      "**************************************************\n",
      "\t\tCoding Temple,Inc.\n",
      "\t\t283 Franklin St.\n",
      "\t\tBoston,Ma\n",
      "==================================================\n",
      "\tproduct Name\tproduct Price\n",
      "\tBooks\t\t$49.95\n",
      "\tComputer\t\t$579.99\n",
      "\tMonitor\t\t$124.89\n",
      "==================================================\n",
      "\t\t\tTotal\n",
      "\t\t\t$754.83\n",
      "==================================================\n",
      "\n",
      "\tThanks for shopping with us today!\n",
      "\n",
      "**************************************************\n"
     ]
    }
   ],
   "source": [
    "#create a product and price for three items\n",
    "p1_name, p1_price=\"Books\",49.95\n",
    "p2_name, p2_price=\"Computer\",579.99\n",
    "p3_name, p3_price=\"Monitor\",124.89\n",
    "\n",
    "#create a company name and information\n",
    "company_name=\"coding temple,inc.\" #we've left company name all lowercase so we can use a string manipulation method to fix the issue\n",
    "company_address=\"283 Franklin St.\"\n",
    "company_city=\"Boston,MA\"\n",
    "\n",
    "#declare ending message\n",
    "message=\"Thanks for shopping with us today!\"\n",
    "\n",
    "#create a top border\n",
    "print(\"*\"*50) #print out 50 stars in a row for a top border\n",
    "\n",
    "#print company information first,using format\n",
    "print(\"\\t\\t{}\".format(company_name.title())) #\\t used for tab indentation\n",
    "print(\"\\t\\t{}\".format(company_address.title()))\n",
    "print(\"\\t\\t{}\".format(company_city.title()))\n",
    "\n",
    "#print a line between sections\n",
    "print(\"=\"*50) #divider\n",
    "\n",
    "#print out header for section of items\n",
    "print(\"\\tproduct Name\\tproduct Price\")\n",
    "\n",
    "#create a print statement for each product\n",
    "print(\"\\t{}\\t\\t${}\".format(p1_name.title(),p1_price))\n",
    "print(\"\\t{}\\t\\t${}\".format(p2_name.title(),p2_price))\n",
    "print(\"\\t{}\\t\\t${}\".format(p3_name.title(),p3_price))\n",
    "\n",
    "#print a line between sections\n",
    "print('='*50)\n",
    "\n",
    "#print out header for section of total\n",
    "print(\"\\t\\t\\tTotal\")\n",
    "\n",
    "#calculate total price and print out\n",
    "total=p1_price+p2_price+p3_price\n",
    "print(\"\\t\\t\\t${}\".format(total))\n",
    "\n",
    "#print a line between sections\n",
    "print(\"=\"*50)\n",
    "\n",
    "#output thank you message\n",
    "print(\"\\n\\t{}\\n\".format(message))\n",
    "\n",
    "#create a bottom border\n",
    "print(\"*\"*50) #return to page 70 for the exercise and more adjustments"
   ]
  },
  {
   "cell_type": "code",
   "execution_count": null,
   "id": "859a3325-63f9-4123-9eac-6c37564b4786",
   "metadata": {},
   "outputs": [],
   "source": []
  }
 ],
 "metadata": {
  "kernelspec": {
   "display_name": "Python 3 (ipykernel)",
   "language": "python",
   "name": "python3"
  },
  "language_info": {
   "codemirror_mode": {
    "name": "ipython",
    "version": 3
   },
   "file_extension": ".py",
   "mimetype": "text/x-python",
   "name": "python",
   "nbconvert_exporter": "python",
   "pygments_lexer": "ipython3",
   "version": "3.12.7"
  }
 },
 "nbformat": 4,
 "nbformat_minor": 5
}
